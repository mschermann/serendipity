{
 "cells": [
  {
   "cell_type": "markdown",
   "metadata": {},
   "source": [
    "# Analyzing Financial Statements I"
   ]
  },
  {
   "cell_type": "markdown",
   "metadata": {},
   "source": [
    "We analyze this [dataset](https://www.sec.gov/dera/data/financial-statement-and-notes-data-set.html). Because this dataset is quite large (from 8GB up to ~90GB), below we use an extract of the dataset that focuses on [Apple](http://investor.apple.com/).\n",
    "\n",
    "An example of a filing is [here](http://files.shareholder.com/downloads/AAPL/6110044160x0x979058/B67C9B87-ED0A-4551-B1E1-E95249A2B1A2/10-Q_Q2_2018_As-Filed_.pdf)."
   ]
  },
  {
   "cell_type": "markdown",
   "metadata": {
    "ExecuteTime": {
     "end_time": "2018-04-26T22:50:25.650751Z",
     "start_time": "2018-04-26T22:50:25.644938Z"
    }
   },
   "source": [
    "## Setup"
   ]
  },
  {
   "cell_type": "markdown",
   "metadata": {
    "ExecuteTime": {
     "end_time": "2018-04-20T18:28:35.627732Z",
     "start_time": "2018-04-20T18:28:35.612855Z"
    }
   },
   "source": [
    "Some initialization to make life easier. **Make sure to run the following cell before proceeding.**"
   ]
  },
  {
   "cell_type": "code",
   "execution_count": 1,
   "metadata": {
    "ExecuteTime": {
     "end_time": "2018-05-24T19:45:19.409408Z",
     "start_time": "2018-05-24T19:45:18.706265Z"
    }
   },
   "outputs": [],
   "source": [
    "#Allow multiple outputs for each cell\n",
    "from IPython.core.interactiveshell import InteractiveShell\n",
    "InteractiveShell.ast_node_interactivity = 'all'\n",
    "#Show simple plots in the notebook\n",
    "import matplotlib.pyplot as plt\n",
    "%matplotlib inline"
   ]
  },
  {
   "cell_type": "markdown",
   "metadata": {},
   "source": [
    "We use the following libraries:\n",
    "* [Pandas](https://pandas.pydata.org) is the most important workhorse in data analytics.\n",
    "* [Altair](https://altair-viz.github.io) is a visualization library."
   ]
  },
  {
   "cell_type": "code",
   "execution_count": 2,
   "metadata": {
    "ExecuteTime": {
     "end_time": "2018-05-24T19:45:19.995784Z",
     "start_time": "2018-05-24T19:45:19.415482Z"
    }
   },
   "outputs": [],
   "source": [
    "import pandas as pd\n",
    "import altair as alt\n",
    "from altair import *\n",
    "import numpy as np\n",
    "#Show up to 500 rows\n",
    "pd.set_option('display.max_rows', 500)\n",
    "#Format number without four decimals\n",
    "pd.set_option('display.float_format', lambda x: '%.4f' % x)\n",
    "#Show altair plots in the notebook\n",
    "alt.renderers.enable('notebook')"
   ]
  },
  {
   "cell_type": "markdown",
   "metadata": {},
   "source": [
    "## Extract data"
   ]
  },
  {
   "cell_type": "markdown",
   "metadata": {},
   "source": [
    "For your reference, the following function extracts the data across the zip-files that the SEC [provides](https://www.sec.gov/dera/data/financial-statement-and-notes-data-set.html)."
   ]
  },
  {
   "cell_type": "code",
   "execution_count": 3,
   "metadata": {
    "ExecuteTime": {
     "end_time": "2018-05-24T19:45:20.012815Z",
     "start_time": "2018-05-24T19:45:19.999014Z"
    }
   },
   "outputs": [],
   "source": [
    "import os\n",
    "import re\n",
    "\n",
    "def extract_fs_info(filename, adsh=None, ending='.tsv', topdir = './'):\n",
    "    dataframe = pd.DataFrame()\n",
    "    for dirpath, dirnames, files in os.walk(topdir):\n",
    "        for name in files:\n",
    "            if (name.lower().endswith(ending)) & (name.startswith(filename)):\n",
    "                print(dirpath)\n",
    "                fs_period = re.search('\\./(\\d+)q(\\d?)', dirpath)\n",
    "                fs_year = fs_period.group(1)\n",
    "                fs_quarter = fs_period.group(2)\n",
    "                s = pd.read_csv(os.path.join(dirpath, name), sep='\\t', low_memory=False, encoding = \"ISO-8859-1\")\n",
    "                if adsh is not None:\n",
    "                   s = s[s['adsh'].isin(adsh)].copy()\n",
    "                s['fs_year'], s['fs_quarter'] = fs_year,fs_quarter \n",
    "                dataframe = dataframe.append(s)\n",
    "    return dataframe"
   ]
  },
  {
   "cell_type": "code",
   "execution_count": 4,
   "metadata": {
    "ExecuteTime": {
     "end_time": "2018-05-24T19:45:20.083800Z",
     "start_time": "2018-05-24T19:45:20.021249Z"
    }
   },
   "outputs": [],
   "source": [
    "#sub = extract_fs_info('sub', ending='.txt')\n",
    "#num = extract_fs_info('num', adsh=apple['adsh'], ending='.txt')\n",
    "#pre = extract_fs_info('pre', adsh=apple['adsh'], ending='.txt')"
   ]
  },
  {
   "cell_type": "markdown",
   "metadata": {},
   "source": [
    "## The SUB file"
   ]
  },
  {
   "cell_type": "markdown",
   "metadata": {},
   "source": [
    "The `SUB` file contains the individual filings that have been **sub**mitted to the SEC. Here, we load Apple's filings since 2010 (including)."
   ]
  },
  {
   "cell_type": "code",
   "execution_count": 5,
   "metadata": {
    "ExecuteTime": {
     "end_time": "2018-05-24T19:45:20.184957Z",
     "start_time": "2018-05-24T19:45:20.089550Z"
    }
   },
   "outputs": [],
   "source": [
    "sub = pd.read_csv('https://raw.githubusercontent.com/mschermann/forensic_accounting/master/apple_sub.csv')"
   ]
  },
  {
   "cell_type": "code",
   "execution_count": 6,
   "metadata": {
    "ExecuteTime": {
     "end_time": "2018-05-24T19:45:20.207391Z",
     "start_time": "2018-05-24T19:45:20.190001Z"
    }
   },
   "outputs": [
    {
     "data": {
      "text/plain": [
       "Index(['adsh', 'cik', 'name', 'sic', 'countryba', 'stprba', 'cityba', 'zipba',\n",
       "       'bas1', 'bas2', 'baph', 'countryma', 'stprma', 'cityma', 'zipma',\n",
       "       'mas1', 'mas2', 'countryinc', 'stprinc', 'ein', 'former', 'changed',\n",
       "       'afs', 'wksi', 'fye', 'form', 'period', 'fy', 'fp', 'filed', 'accepted',\n",
       "       'prevrpt', 'detail', 'instance', 'nciks', 'aciks', 'fs_year',\n",
       "       'fs_quarter'],\n",
       "      dtype='object')"
      ]
     },
     "execution_count": 6,
     "metadata": {},
     "output_type": "execute_result"
    }
   ],
   "source": [
    "sub.columns"
   ]
  },
  {
   "cell_type": "markdown",
   "metadata": {},
   "source": [
    "The following columns are important for the following analysis:\n",
    "\n",
    "| Column | Description (Source: [SEC](https://www.sec.gov/files/aqfsn_1.pdf))|\n",
    "| -------- |:-------------:|\n",
    "|adsh|  A unique identifier assigned automatically to an accepted submission by the EDGAR Filer System. The identifier has the format `CIK - Year - Count`. |\n",
    "|cik |  A unique numerical identifier assigned by the EDGAR system to filers. |\n",
    "|name| Name of filer. This corresponds to the name of the legal entity as recorded in EDGAR as of the filing date.|\n",
    "|sic| Name of registrant. This corresponds to the name of the legal entity as recorded in EDGAR as of the filing date.|\n",
    "|fye| Fiscal Year End Date with the format (MMDD).|\n",
    "|form| The submission type of the registrant's filing.|\n",
    "|period| Balance Sheet Date with the format (YYMMDD).|\n",
    "|fy| Fiscal Year Focus with the format (YYYY). |\n",
    "|pf| Fiscal Period Focus (10-Q form is for the quarters Q1,Q2, and Q3, 10-K form is for FY)|\n",
    "|fs_year| Year from folder name |\n",
    "|fs_quarter| Quarter from the folder name|"
   ]
  },
  {
   "cell_type": "code",
   "execution_count": 7,
   "metadata": {
    "ExecuteTime": {
     "end_time": "2018-05-24T19:45:20.238686Z",
     "start_time": "2018-05-24T19:45:20.218485Z"
    }
   },
   "outputs": [],
   "source": [
    "sub = sub.loc[:,['adsh', 'cik', 'name', 'sic', 'fye', 'form', 'period', 'fy', 'fp', 'fs_year', 'fs_quarter']]"
   ]
  },
  {
   "cell_type": "code",
   "execution_count": 8,
   "metadata": {
    "ExecuteTime": {
     "end_time": "2018-05-24T19:45:20.299833Z",
     "start_time": "2018-05-24T19:45:20.248548Z"
    }
   },
   "outputs": [
    {
     "data": {
      "text/html": [
       "<div>\n",
       "<style scoped>\n",
       "    .dataframe tbody tr th:only-of-type {\n",
       "        vertical-align: middle;\n",
       "    }\n",
       "\n",
       "    .dataframe tbody tr th {\n",
       "        vertical-align: top;\n",
       "    }\n",
       "\n",
       "    .dataframe thead th {\n",
       "        text-align: right;\n",
       "    }\n",
       "</style>\n",
       "<table border=\"1\" class=\"dataframe\">\n",
       "  <thead>\n",
       "    <tr style=\"text-align: right;\">\n",
       "      <th></th>\n",
       "      <th>adsh</th>\n",
       "      <th>cik</th>\n",
       "      <th>name</th>\n",
       "      <th>sic</th>\n",
       "      <th>fye</th>\n",
       "      <th>form</th>\n",
       "      <th>period</th>\n",
       "      <th>fy</th>\n",
       "      <th>fp</th>\n",
       "      <th>fs_year</th>\n",
       "      <th>fs_quarter</th>\n",
       "    </tr>\n",
       "  </thead>\n",
       "  <tbody>\n",
       "    <tr>\n",
       "      <th>0</th>\n",
       "      <td>0001193125-10-012085</td>\n",
       "      <td>320193</td>\n",
       "      <td>APPLE INC</td>\n",
       "      <td>3571</td>\n",
       "      <td>930</td>\n",
       "      <td>10-Q</td>\n",
       "      <td>20091231</td>\n",
       "      <td>2010</td>\n",
       "      <td>Q1</td>\n",
       "      <td>2010</td>\n",
       "      <td>1</td>\n",
       "    </tr>\n",
       "    <tr>\n",
       "      <th>1</th>\n",
       "      <td>0001193125-10-012091</td>\n",
       "      <td>320193</td>\n",
       "      <td>APPLE INC</td>\n",
       "      <td>3571</td>\n",
       "      <td>930</td>\n",
       "      <td>10-K/A</td>\n",
       "      <td>20090930</td>\n",
       "      <td>2009</td>\n",
       "      <td>FY</td>\n",
       "      <td>2010</td>\n",
       "      <td>1</td>\n",
       "    </tr>\n",
       "    <tr>\n",
       "      <th>2</th>\n",
       "      <td>0001193125-10-088957</td>\n",
       "      <td>320193</td>\n",
       "      <td>APPLE INC</td>\n",
       "      <td>3571</td>\n",
       "      <td>930</td>\n",
       "      <td>10-Q</td>\n",
       "      <td>20100331</td>\n",
       "      <td>2010</td>\n",
       "      <td>Q2</td>\n",
       "      <td>2010</td>\n",
       "      <td>2</td>\n",
       "    </tr>\n",
       "    <tr>\n",
       "      <th>3</th>\n",
       "      <td>0001193125-10-162840</td>\n",
       "      <td>320193</td>\n",
       "      <td>APPLE INC</td>\n",
       "      <td>3571</td>\n",
       "      <td>930</td>\n",
       "      <td>10-Q</td>\n",
       "      <td>20100630</td>\n",
       "      <td>2010</td>\n",
       "      <td>Q3</td>\n",
       "      <td>2010</td>\n",
       "      <td>3</td>\n",
       "    </tr>\n",
       "    <tr>\n",
       "      <th>4</th>\n",
       "      <td>0001193125-10-238044</td>\n",
       "      <td>320193</td>\n",
       "      <td>APPLE INC</td>\n",
       "      <td>3571</td>\n",
       "      <td>930</td>\n",
       "      <td>10-K</td>\n",
       "      <td>20100930</td>\n",
       "      <td>2010</td>\n",
       "      <td>FY</td>\n",
       "      <td>2010</td>\n",
       "      <td>4</td>\n",
       "    </tr>\n",
       "  </tbody>\n",
       "</table>\n",
       "</div>"
      ],
      "text/plain": [
       "                   adsh     cik       name   sic  fye    form    period    fy  \\\n",
       "0  0001193125-10-012085  320193  APPLE INC  3571  930    10-Q  20091231  2010   \n",
       "1  0001193125-10-012091  320193  APPLE INC  3571  930  10-K/A  20090930  2009   \n",
       "2  0001193125-10-088957  320193  APPLE INC  3571  930    10-Q  20100331  2010   \n",
       "3  0001193125-10-162840  320193  APPLE INC  3571  930    10-Q  20100630  2010   \n",
       "4  0001193125-10-238044  320193  APPLE INC  3571  930    10-K  20100930  2010   \n",
       "\n",
       "   fp  fs_year  fs_quarter  \n",
       "0  Q1     2010           1  \n",
       "1  FY     2010           1  \n",
       "2  Q2     2010           2  \n",
       "3  Q3     2010           3  \n",
       "4  FY     2010           4  "
      ]
     },
     "execution_count": 8,
     "metadata": {},
     "output_type": "execute_result"
    }
   ],
   "source": [
    "sub.head()"
   ]
  },
  {
   "cell_type": "markdown",
   "metadata": {},
   "source": [
    "## The NUM file"
   ]
  },
  {
   "cell_type": "markdown",
   "metadata": {},
   "source": [
    "The `NUM` file contains \"includes one row for each distinct amount from each submission\n",
    "included in the SUB data set.\" (Source: [SEC](https://www.sec.gov/files/aqfsn_1.pdf))"
   ]
  },
  {
   "cell_type": "code",
   "execution_count": 9,
   "metadata": {
    "ExecuteTime": {
     "end_time": "2018-05-24T19:45:20.597541Z",
     "start_time": "2018-05-24T19:45:20.305814Z"
    }
   },
   "outputs": [],
   "source": [
    "num = pd.read_csv('https://raw.githubusercontent.com/mschermann/forensic_accounting/master/apple_num.csv')"
   ]
  },
  {
   "cell_type": "code",
   "execution_count": 10,
   "metadata": {
    "ExecuteTime": {
     "end_time": "2018-05-24T19:45:20.632602Z",
     "start_time": "2018-05-24T19:45:20.605001Z"
    }
   },
   "outputs": [
    {
     "data": {
      "text/plain": [
       "Index(['adsh', 'tag', 'version', 'coreg', 'ddate', 'qtrs', 'uom', 'value',\n",
       "       'footnote', 'fs_year', 'fs_quarter'],\n",
       "      dtype='object')"
      ]
     },
     "execution_count": 10,
     "metadata": {},
     "output_type": "execute_result"
    }
   ],
   "source": [
    "num.columns"
   ]
  },
  {
   "cell_type": "markdown",
   "metadata": {},
   "source": [
    "The following columns are important for the following analysis:\n",
    "\n",
    "| Column | Description (Source: [SEC](https://www.sec.gov/files/aqfsn_1.pdf)) |\n",
    "| -------- |:-------------:|\n",
    "|adsh| \"A unique identifier assigned automatically to an accepted submission by the EDGAR Filer System.\" The identifier has the format `CIK - Year - Count`. |\n",
    "|tag | \"The unique identifier (name) for a tag in a specific taxonomy release.\" |\n",
    "|version| \"For a standard tag, an identifier for the taxonomy; otherwise the accession number where the tag was defined.\" |\n",
    "|ddate | \"The end date for the data value, rounded to the nearest month end.\"|\n",
    "|qtrs | \"The count of the number of quarters represented by the data value, rounded to the nearest whole number. \"0\" indicates it is a point-in-time value.|\n",
    "|uom| \"The unit of measure for the value.\"|\n",
    "|value| \"The value. This is rounded to four digits to the right of the decimal point.\"|\n",
    "|footnote| \"The plain text of any superscripted footnotes on the value, if any, as shown on the statement page, truncated to 512 characters.\"|\n",
    "|fs_year| Year from folder name |\n",
    "|fs_quarter| Quarter from the folder name|"
   ]
  },
  {
   "cell_type": "code",
   "execution_count": 11,
   "metadata": {
    "ExecuteTime": {
     "end_time": "2018-05-24T19:45:20.683432Z",
     "start_time": "2018-05-24T19:45:20.642671Z"
    }
   },
   "outputs": [
    {
     "data": {
      "text/html": [
       "<div>\n",
       "<style scoped>\n",
       "    .dataframe tbody tr th:only-of-type {\n",
       "        vertical-align: middle;\n",
       "    }\n",
       "\n",
       "    .dataframe tbody tr th {\n",
       "        vertical-align: top;\n",
       "    }\n",
       "\n",
       "    .dataframe thead th {\n",
       "        text-align: right;\n",
       "    }\n",
       "</style>\n",
       "<table border=\"1\" class=\"dataframe\">\n",
       "  <thead>\n",
       "    <tr style=\"text-align: right;\">\n",
       "      <th></th>\n",
       "      <th>adsh</th>\n",
       "      <th>tag</th>\n",
       "      <th>version</th>\n",
       "      <th>coreg</th>\n",
       "      <th>ddate</th>\n",
       "      <th>qtrs</th>\n",
       "      <th>uom</th>\n",
       "      <th>value</th>\n",
       "      <th>footnote</th>\n",
       "      <th>fs_year</th>\n",
       "      <th>fs_quarter</th>\n",
       "    </tr>\n",
       "  </thead>\n",
       "  <tbody>\n",
       "    <tr>\n",
       "      <th>0</th>\n",
       "      <td>0001193125-14-277160</td>\n",
       "      <td>AccountsPayableCurrent</td>\n",
       "      <td>us-gaap/2014</td>\n",
       "      <td>nan</td>\n",
       "      <td>20130930</td>\n",
       "      <td>0</td>\n",
       "      <td>USD</td>\n",
       "      <td>22367000000.0000</td>\n",
       "      <td>NaN</td>\n",
       "      <td>2014</td>\n",
       "      <td>3</td>\n",
       "    </tr>\n",
       "    <tr>\n",
       "      <th>1</th>\n",
       "      <td>0001193125-14-277160</td>\n",
       "      <td>AccountsPayableCurrent</td>\n",
       "      <td>us-gaap/2014</td>\n",
       "      <td>nan</td>\n",
       "      <td>20140630</td>\n",
       "      <td>0</td>\n",
       "      <td>USD</td>\n",
       "      <td>20535000000.0000</td>\n",
       "      <td>NaN</td>\n",
       "      <td>2014</td>\n",
       "      <td>3</td>\n",
       "    </tr>\n",
       "    <tr>\n",
       "      <th>2</th>\n",
       "      <td>0001193125-14-277160</td>\n",
       "      <td>AccountsReceivableNetCurrent</td>\n",
       "      <td>us-gaap/2014</td>\n",
       "      <td>nan</td>\n",
       "      <td>20130930</td>\n",
       "      <td>0</td>\n",
       "      <td>USD</td>\n",
       "      <td>13102000000.0000</td>\n",
       "      <td>NaN</td>\n",
       "      <td>2014</td>\n",
       "      <td>3</td>\n",
       "    </tr>\n",
       "    <tr>\n",
       "      <th>3</th>\n",
       "      <td>0001193125-14-277160</td>\n",
       "      <td>AccountsReceivableNetCurrent</td>\n",
       "      <td>us-gaap/2014</td>\n",
       "      <td>nan</td>\n",
       "      <td>20140630</td>\n",
       "      <td>0</td>\n",
       "      <td>USD</td>\n",
       "      <td>10788000000.0000</td>\n",
       "      <td>NaN</td>\n",
       "      <td>2014</td>\n",
       "      <td>3</td>\n",
       "    </tr>\n",
       "    <tr>\n",
       "      <th>4</th>\n",
       "      <td>0001193125-14-277160</td>\n",
       "      <td>AccruedLiabilitiesCurrent</td>\n",
       "      <td>us-gaap/2014</td>\n",
       "      <td>nan</td>\n",
       "      <td>20130930</td>\n",
       "      <td>0</td>\n",
       "      <td>USD</td>\n",
       "      <td>13856000000.0000</td>\n",
       "      <td>NaN</td>\n",
       "      <td>2014</td>\n",
       "      <td>3</td>\n",
       "    </tr>\n",
       "  </tbody>\n",
       "</table>\n",
       "</div>"
      ],
      "text/plain": [
       "                   adsh                           tag       version  coreg  \\\n",
       "0  0001193125-14-277160        AccountsPayableCurrent  us-gaap/2014    nan   \n",
       "1  0001193125-14-277160        AccountsPayableCurrent  us-gaap/2014    nan   \n",
       "2  0001193125-14-277160  AccountsReceivableNetCurrent  us-gaap/2014    nan   \n",
       "3  0001193125-14-277160  AccountsReceivableNetCurrent  us-gaap/2014    nan   \n",
       "4  0001193125-14-277160     AccruedLiabilitiesCurrent  us-gaap/2014    nan   \n",
       "\n",
       "      ddate  qtrs  uom            value footnote  fs_year  fs_quarter  \n",
       "0  20130930     0  USD 22367000000.0000      NaN     2014           3  \n",
       "1  20140630     0  USD 20535000000.0000      NaN     2014           3  \n",
       "2  20130930     0  USD 13102000000.0000      NaN     2014           3  \n",
       "3  20140630     0  USD 10788000000.0000      NaN     2014           3  \n",
       "4  20130930     0  USD 13856000000.0000      NaN     2014           3  "
      ]
     },
     "execution_count": 11,
     "metadata": {},
     "output_type": "execute_result"
    }
   ],
   "source": [
    "num.head()"
   ]
  },
  {
   "cell_type": "markdown",
   "metadata": {},
   "source": [
    "## The PRE file"
   ]
  },
  {
   "cell_type": "markdown",
   "metadata": {},
   "source": [
    "The `PRE` file \"provides information about how the tags and numbers were\n",
    "presented in the primary financial statements.\" (Source: [SEC](https://www.sec.gov/files/aqfsn_1.pdf))"
   ]
  },
  {
   "cell_type": "code",
   "execution_count": 12,
   "metadata": {
    "ExecuteTime": {
     "end_time": "2018-05-24T19:45:20.830552Z",
     "start_time": "2018-05-24T19:45:20.688629Z"
    }
   },
   "outputs": [],
   "source": [
    "pre = pd.read_csv('https://raw.githubusercontent.com/mschermann/forensic_accounting/master/apple_pre.csv')"
   ]
  },
  {
   "cell_type": "code",
   "execution_count": 13,
   "metadata": {
    "ExecuteTime": {
     "end_time": "2018-05-24T19:45:20.849364Z",
     "start_time": "2018-05-24T19:45:20.833693Z"
    }
   },
   "outputs": [
    {
     "data": {
      "text/plain": [
       "Index(['adsh', 'report', 'line', 'stmt', 'inpth', 'rfile', 'tag', 'version',\n",
       "       'plabel', 'negating', 'fs_year', 'fs_quarter'],\n",
       "      dtype='object')"
      ]
     },
     "execution_count": 13,
     "metadata": {},
     "output_type": "execute_result"
    }
   ],
   "source": [
    "pre.columns"
   ]
  },
  {
   "cell_type": "markdown",
   "metadata": {},
   "source": [
    "The following columns are important for the following analysis:\n",
    "\n",
    "| Column | Description (Source: [SEC](https://www.sec.gov/files/aqfsn_1.pdf))|\n",
    "| -------- |:-------------:|\n",
    "|adsh| \"A unique identifier assigned automatically to an accepted submission by the EDGAR Filer System.\" The identifier has the format `CIK - Year - Count`. |\n",
    "|report| \"Represents the report grouping.\"\n",
    "|line | \"Represents the tag's presentation line order for a given report.\" |\n",
    "|stmt | \"The financial statement location to which the value of the \"report\" field pertains. (CP = Cover Page, BS = Balance Sheet, IS = Income Statement, CF = Cash Flow, EQ = Equity, CI = C omprehensive Income, UN = Unclassifiable Statement) |\n",
    "| tag | \"The tag chosen by the filer for this line item.\"|\n",
    "| version | \"The taxonomy identifier if the tag is a standard tag, otherwise adsh.|\n",
    "|fs_year| Year from folder name |\n",
    "|fs_quarter| Quarter from the folder name|"
   ]
  },
  {
   "cell_type": "code",
   "execution_count": 14,
   "metadata": {
    "ExecuteTime": {
     "end_time": "2018-05-24T19:45:20.870424Z",
     "start_time": "2018-05-24T19:45:20.858070Z"
    }
   },
   "outputs": [],
   "source": [
    "pre = pre.loc[:,['adsh', 'report', 'line', 'stmt', 'tag', 'version', 'fs_year', 'fs_quarter']]"
   ]
  },
  {
   "cell_type": "code",
   "execution_count": 15,
   "metadata": {
    "ExecuteTime": {
     "end_time": "2018-05-24T19:45:20.918955Z",
     "start_time": "2018-05-24T19:45:20.878020Z"
    }
   },
   "outputs": [
    {
     "data": {
      "text/html": [
       "<div>\n",
       "<style scoped>\n",
       "    .dataframe tbody tr th:only-of-type {\n",
       "        vertical-align: middle;\n",
       "    }\n",
       "\n",
       "    .dataframe tbody tr th {\n",
       "        vertical-align: top;\n",
       "    }\n",
       "\n",
       "    .dataframe thead th {\n",
       "        text-align: right;\n",
       "    }\n",
       "</style>\n",
       "<table border=\"1\" class=\"dataframe\">\n",
       "  <thead>\n",
       "    <tr style=\"text-align: right;\">\n",
       "      <th></th>\n",
       "      <th>adsh</th>\n",
       "      <th>report</th>\n",
       "      <th>line</th>\n",
       "      <th>stmt</th>\n",
       "      <th>tag</th>\n",
       "      <th>version</th>\n",
       "      <th>fs_year</th>\n",
       "      <th>fs_quarter</th>\n",
       "    </tr>\n",
       "  </thead>\n",
       "  <tbody>\n",
       "    <tr>\n",
       "      <th>0</th>\n",
       "      <td>0001193125-14-277160</td>\n",
       "      <td>4</td>\n",
       "      <td>21</td>\n",
       "      <td>BS</td>\n",
       "      <td>AccountsPayableCurrent</td>\n",
       "      <td>us-gaap/2014</td>\n",
       "      <td>2014</td>\n",
       "      <td>3</td>\n",
       "    </tr>\n",
       "    <tr>\n",
       "      <th>1</th>\n",
       "      <td>0001193125-14-277160</td>\n",
       "      <td>4</td>\n",
       "      <td>7</td>\n",
       "      <td>BS</td>\n",
       "      <td>AccountsReceivableNetCurrent</td>\n",
       "      <td>us-gaap/2014</td>\n",
       "      <td>2014</td>\n",
       "      <td>3</td>\n",
       "    </tr>\n",
       "    <tr>\n",
       "      <th>2</th>\n",
       "      <td>0001193125-14-277160</td>\n",
       "      <td>4</td>\n",
       "      <td>22</td>\n",
       "      <td>BS</td>\n",
       "      <td>AccruedLiabilitiesCurrent</td>\n",
       "      <td>us-gaap/2014</td>\n",
       "      <td>2014</td>\n",
       "      <td>3</td>\n",
       "    </tr>\n",
       "    <tr>\n",
       "      <th>3</th>\n",
       "      <td>0001193125-14-277160</td>\n",
       "      <td>6</td>\n",
       "      <td>6</td>\n",
       "      <td>CF</td>\n",
       "      <td>AdjustmentsToReconcileNetIncomeLossToCashProvi...</td>\n",
       "      <td>us-gaap/2014</td>\n",
       "      <td>2014</td>\n",
       "      <td>3</td>\n",
       "    </tr>\n",
       "    <tr>\n",
       "      <th>4</th>\n",
       "      <td>0001193125-14-277160</td>\n",
       "      <td>5</td>\n",
       "      <td>3</td>\n",
       "      <td>BS</td>\n",
       "      <td>AllowanceForDoubtfulAccountsReceivableCurrent</td>\n",
       "      <td>us-gaap/2014</td>\n",
       "      <td>2014</td>\n",
       "      <td>3</td>\n",
       "    </tr>\n",
       "  </tbody>\n",
       "</table>\n",
       "</div>"
      ],
      "text/plain": [
       "                   adsh  report  line stmt  \\\n",
       "0  0001193125-14-277160       4    21   BS   \n",
       "1  0001193125-14-277160       4     7   BS   \n",
       "2  0001193125-14-277160       4    22   BS   \n",
       "3  0001193125-14-277160       6     6   CF   \n",
       "4  0001193125-14-277160       5     3   BS   \n",
       "\n",
       "                                                 tag       version  fs_year  \\\n",
       "0                             AccountsPayableCurrent  us-gaap/2014     2014   \n",
       "1                       AccountsReceivableNetCurrent  us-gaap/2014     2014   \n",
       "2                          AccruedLiabilitiesCurrent  us-gaap/2014     2014   \n",
       "3  AdjustmentsToReconcileNetIncomeLossToCashProvi...  us-gaap/2014     2014   \n",
       "4      AllowanceForDoubtfulAccountsReceivableCurrent  us-gaap/2014     2014   \n",
       "\n",
       "   fs_quarter  \n",
       "0           3  \n",
       "1           3  \n",
       "2           3  \n",
       "3           3  \n",
       "4           3  "
      ]
     },
     "execution_count": 15,
     "metadata": {},
     "output_type": "execute_result"
    }
   ],
   "source": [
    "pre.head()"
   ]
  },
  {
   "cell_type": "markdown",
   "metadata": {},
   "source": [
    "## Prepare the analysis"
   ]
  },
  {
   "cell_type": "markdown",
   "metadata": {},
   "source": [
    "We begin with filtering the important reports. Let's assume we are only interested in 10-Q and 10-K."
   ]
  },
  {
   "cell_type": "code",
   "execution_count": 16,
   "metadata": {
    "ExecuteTime": {
     "end_time": "2018-05-24T19:45:20.935175Z",
     "start_time": "2018-05-24T19:45:20.924846Z"
    }
   },
   "outputs": [],
   "source": [
    "sub = sub[sub['form'].isin(['10-Q','10-K'])]"
   ]
  },
  {
   "cell_type": "code",
   "execution_count": 17,
   "metadata": {
    "ExecuteTime": {
     "end_time": "2018-05-24T19:45:20.958367Z",
     "start_time": "2018-05-24T19:45:20.943580Z"
    }
   },
   "outputs": [
    {
     "data": {
      "text/plain": [
       "33"
      ]
     },
     "execution_count": 17,
     "metadata": {},
     "output_type": "execute_result"
    }
   ],
   "source": [
    "len(sub)"
   ]
  },
  {
   "cell_type": "markdown",
   "metadata": {},
   "source": [
    "We have 33 financial statements:\n",
    "* four statements for each year in the timeframe of 2010 to 2017\n",
    "* one statement for the first quarter of 2018"
   ]
  },
  {
   "cell_type": "markdown",
   "metadata": {},
   "source": [
    "Similarly, we filter the `NUM` and the `PRE` files to contain only the filings of interest."
   ]
  },
  {
   "cell_type": "code",
   "execution_count": 18,
   "metadata": {
    "ExecuteTime": {
     "end_time": "2018-05-24T19:45:20.994796Z",
     "start_time": "2018-05-24T19:45:20.971287Z"
    }
   },
   "outputs": [],
   "source": [
    "num = num[num['adsh'].isin(sub['adsh'])]\n",
    "pre = pre[pre['adsh'].isin(sub['adsh'])]"
   ]
  },
  {
   "cell_type": "markdown",
   "metadata": {},
   "source": [
    "Apple's financial years ends on September, 30 ([Apple](https://www.apple.com/newsroom/2017/11/apple-reports-fourth-quarter-results/)). This means that:\n",
    "* Q1 - October, 1 to December, 31.\n",
    "* Q2 - January, 1 to March, 31.\n",
    "* Q3 - April, 1 to June, 30.\n",
    "* Q4 - July, 1 to September, 30."
   ]
  },
  {
   "cell_type": "markdown",
   "metadata": {},
   "source": [
    "The reporting period is stated in the `SUB` file. We merge the relevant column `period` to the `NUM` file."
   ]
  },
  {
   "cell_type": "code",
   "execution_count": 19,
   "metadata": {
    "ExecuteTime": {
     "end_time": "2018-05-24T19:45:21.043108Z",
     "start_time": "2018-05-24T19:45:21.000351Z"
    }
   },
   "outputs": [],
   "source": [
    "num = pd.merge(num, sub[['adsh', 'period']], how='left', on='adsh')"
   ]
  },
  {
   "cell_type": "markdown",
   "metadata": {},
   "source": [
    "We add Apple's financial quarter to the dataset."
   ]
  },
  {
   "cell_type": "code",
   "execution_count": 20,
   "metadata": {
    "ExecuteTime": {
     "end_time": "2018-05-24T19:45:25.824401Z",
     "start_time": "2018-05-24T19:45:21.048530Z"
    }
   },
   "outputs": [],
   "source": [
    "num['fin_quarter'] = pd.PeriodIndex(num['ddate'], freq='Q-SEP')"
   ]
  },
  {
   "cell_type": "code",
   "execution_count": 21,
   "metadata": {
    "ExecuteTime": {
     "end_time": "2018-05-24T19:45:25.889622Z",
     "start_time": "2018-05-24T19:45:25.828175Z"
    }
   },
   "outputs": [
    {
     "data": {
      "text/html": [
       "<div>\n",
       "<style scoped>\n",
       "    .dataframe tbody tr th:only-of-type {\n",
       "        vertical-align: middle;\n",
       "    }\n",
       "\n",
       "    .dataframe tbody tr th {\n",
       "        vertical-align: top;\n",
       "    }\n",
       "\n",
       "    .dataframe thead th {\n",
       "        text-align: right;\n",
       "    }\n",
       "</style>\n",
       "<table border=\"1\" class=\"dataframe\">\n",
       "  <thead>\n",
       "    <tr style=\"text-align: right;\">\n",
       "      <th></th>\n",
       "      <th>adsh</th>\n",
       "      <th>tag</th>\n",
       "      <th>version</th>\n",
       "      <th>coreg</th>\n",
       "      <th>ddate</th>\n",
       "      <th>qtrs</th>\n",
       "      <th>uom</th>\n",
       "      <th>value</th>\n",
       "      <th>footnote</th>\n",
       "      <th>fs_year</th>\n",
       "      <th>fs_quarter</th>\n",
       "      <th>period</th>\n",
       "      <th>fin_quarter</th>\n",
       "    </tr>\n",
       "  </thead>\n",
       "  <tbody>\n",
       "    <tr>\n",
       "      <th>0</th>\n",
       "      <td>0001193125-14-277160</td>\n",
       "      <td>AccountsPayableCurrent</td>\n",
       "      <td>us-gaap/2014</td>\n",
       "      <td>nan</td>\n",
       "      <td>20130930</td>\n",
       "      <td>0</td>\n",
       "      <td>USD</td>\n",
       "      <td>22367000000.0000</td>\n",
       "      <td>NaN</td>\n",
       "      <td>2014</td>\n",
       "      <td>3</td>\n",
       "      <td>20140630</td>\n",
       "      <td>2013Q4</td>\n",
       "    </tr>\n",
       "    <tr>\n",
       "      <th>1</th>\n",
       "      <td>0001193125-14-277160</td>\n",
       "      <td>AccountsPayableCurrent</td>\n",
       "      <td>us-gaap/2014</td>\n",
       "      <td>nan</td>\n",
       "      <td>20140630</td>\n",
       "      <td>0</td>\n",
       "      <td>USD</td>\n",
       "      <td>20535000000.0000</td>\n",
       "      <td>NaN</td>\n",
       "      <td>2014</td>\n",
       "      <td>3</td>\n",
       "      <td>20140630</td>\n",
       "      <td>2014Q3</td>\n",
       "    </tr>\n",
       "    <tr>\n",
       "      <th>2</th>\n",
       "      <td>0001193125-14-277160</td>\n",
       "      <td>AccountsReceivableNetCurrent</td>\n",
       "      <td>us-gaap/2014</td>\n",
       "      <td>nan</td>\n",
       "      <td>20130930</td>\n",
       "      <td>0</td>\n",
       "      <td>USD</td>\n",
       "      <td>13102000000.0000</td>\n",
       "      <td>NaN</td>\n",
       "      <td>2014</td>\n",
       "      <td>3</td>\n",
       "      <td>20140630</td>\n",
       "      <td>2013Q4</td>\n",
       "    </tr>\n",
       "    <tr>\n",
       "      <th>3</th>\n",
       "      <td>0001193125-14-277160</td>\n",
       "      <td>AccountsReceivableNetCurrent</td>\n",
       "      <td>us-gaap/2014</td>\n",
       "      <td>nan</td>\n",
       "      <td>20140630</td>\n",
       "      <td>0</td>\n",
       "      <td>USD</td>\n",
       "      <td>10788000000.0000</td>\n",
       "      <td>NaN</td>\n",
       "      <td>2014</td>\n",
       "      <td>3</td>\n",
       "      <td>20140630</td>\n",
       "      <td>2014Q3</td>\n",
       "    </tr>\n",
       "    <tr>\n",
       "      <th>4</th>\n",
       "      <td>0001193125-14-277160</td>\n",
       "      <td>AccruedLiabilitiesCurrent</td>\n",
       "      <td>us-gaap/2014</td>\n",
       "      <td>nan</td>\n",
       "      <td>20130930</td>\n",
       "      <td>0</td>\n",
       "      <td>USD</td>\n",
       "      <td>13856000000.0000</td>\n",
       "      <td>NaN</td>\n",
       "      <td>2014</td>\n",
       "      <td>3</td>\n",
       "      <td>20140630</td>\n",
       "      <td>2013Q4</td>\n",
       "    </tr>\n",
       "  </tbody>\n",
       "</table>\n",
       "</div>"
      ],
      "text/plain": [
       "                   adsh                           tag       version  coreg  \\\n",
       "0  0001193125-14-277160        AccountsPayableCurrent  us-gaap/2014    nan   \n",
       "1  0001193125-14-277160        AccountsPayableCurrent  us-gaap/2014    nan   \n",
       "2  0001193125-14-277160  AccountsReceivableNetCurrent  us-gaap/2014    nan   \n",
       "3  0001193125-14-277160  AccountsReceivableNetCurrent  us-gaap/2014    nan   \n",
       "4  0001193125-14-277160     AccruedLiabilitiesCurrent  us-gaap/2014    nan   \n",
       "\n",
       "      ddate  qtrs  uom            value footnote  fs_year  fs_quarter  \\\n",
       "0  20130930     0  USD 22367000000.0000      NaN     2014           3   \n",
       "1  20140630     0  USD 20535000000.0000      NaN     2014           3   \n",
       "2  20130930     0  USD 13102000000.0000      NaN     2014           3   \n",
       "3  20140630     0  USD 10788000000.0000      NaN     2014           3   \n",
       "4  20130930     0  USD 13856000000.0000      NaN     2014           3   \n",
       "\n",
       "     period fin_quarter  \n",
       "0  20140630      2013Q4  \n",
       "1  20140630      2014Q3  \n",
       "2  20140630      2013Q4  \n",
       "3  20140630      2014Q3  \n",
       "4  20140630      2013Q4  "
      ]
     },
     "execution_count": 21,
     "metadata": {},
     "output_type": "execute_result"
    }
   ],
   "source": [
    "num.head()"
   ]
  },
  {
   "cell_type": "markdown",
   "metadata": {},
   "source": [
    "A financial statement typically contains a comparison period to shows the performance of the company. Since we analyze multiple periods, we do not need the comparison values. We need to filter the comparison values. "
   ]
  },
  {
   "cell_type": "code",
   "execution_count": 22,
   "metadata": {
    "ExecuteTime": {
     "end_time": "2018-05-24T19:45:25.911978Z",
     "start_time": "2018-05-24T19:45:25.893996Z"
    }
   },
   "outputs": [],
   "source": [
    "num = num[num['ddate']==num['period']]"
   ]
  },
  {
   "cell_type": "code",
   "execution_count": 23,
   "metadata": {
    "ExecuteTime": {
     "end_time": "2018-05-24T19:45:25.946767Z",
     "start_time": "2018-05-24T19:45:25.918203Z"
    }
   },
   "outputs": [
    {
     "data": {
      "text/html": [
       "<div>\n",
       "<style scoped>\n",
       "    .dataframe tbody tr th:only-of-type {\n",
       "        vertical-align: middle;\n",
       "    }\n",
       "\n",
       "    .dataframe tbody tr th {\n",
       "        vertical-align: top;\n",
       "    }\n",
       "\n",
       "    .dataframe thead th {\n",
       "        text-align: right;\n",
       "    }\n",
       "</style>\n",
       "<table border=\"1\" class=\"dataframe\">\n",
       "  <thead>\n",
       "    <tr style=\"text-align: right;\">\n",
       "      <th></th>\n",
       "      <th>adsh</th>\n",
       "      <th>tag</th>\n",
       "      <th>version</th>\n",
       "      <th>coreg</th>\n",
       "      <th>ddate</th>\n",
       "      <th>qtrs</th>\n",
       "      <th>uom</th>\n",
       "      <th>value</th>\n",
       "      <th>footnote</th>\n",
       "      <th>fs_year</th>\n",
       "      <th>fs_quarter</th>\n",
       "      <th>period</th>\n",
       "      <th>fin_quarter</th>\n",
       "    </tr>\n",
       "  </thead>\n",
       "  <tbody>\n",
       "    <tr>\n",
       "      <th>1</th>\n",
       "      <td>0001193125-14-277160</td>\n",
       "      <td>AccountsPayableCurrent</td>\n",
       "      <td>us-gaap/2014</td>\n",
       "      <td>nan</td>\n",
       "      <td>20140630</td>\n",
       "      <td>0</td>\n",
       "      <td>USD</td>\n",
       "      <td>20535000000.0000</td>\n",
       "      <td>NaN</td>\n",
       "      <td>2014</td>\n",
       "      <td>3</td>\n",
       "      <td>20140630</td>\n",
       "      <td>2014Q3</td>\n",
       "    </tr>\n",
       "    <tr>\n",
       "      <th>3</th>\n",
       "      <td>0001193125-14-277160</td>\n",
       "      <td>AccountsReceivableNetCurrent</td>\n",
       "      <td>us-gaap/2014</td>\n",
       "      <td>nan</td>\n",
       "      <td>20140630</td>\n",
       "      <td>0</td>\n",
       "      <td>USD</td>\n",
       "      <td>10788000000.0000</td>\n",
       "      <td>NaN</td>\n",
       "      <td>2014</td>\n",
       "      <td>3</td>\n",
       "      <td>20140630</td>\n",
       "      <td>2014Q3</td>\n",
       "    </tr>\n",
       "    <tr>\n",
       "      <th>5</th>\n",
       "      <td>0001193125-14-277160</td>\n",
       "      <td>AccruedLiabilitiesCurrent</td>\n",
       "      <td>us-gaap/2014</td>\n",
       "      <td>nan</td>\n",
       "      <td>20140630</td>\n",
       "      <td>0</td>\n",
       "      <td>USD</td>\n",
       "      <td>15264000000.0000</td>\n",
       "      <td>NaN</td>\n",
       "      <td>2014</td>\n",
       "      <td>3</td>\n",
       "      <td>20140630</td>\n",
       "      <td>2014Q3</td>\n",
       "    </tr>\n",
       "    <tr>\n",
       "      <th>7</th>\n",
       "      <td>0001193125-14-277160</td>\n",
       "      <td>AccumulatedDepreciationDepletionAndAmortizatio...</td>\n",
       "      <td>us-gaap/2014</td>\n",
       "      <td>nan</td>\n",
       "      <td>20140630</td>\n",
       "      <td>0</td>\n",
       "      <td>USD</td>\n",
       "      <td>16868000000.0000</td>\n",
       "      <td>NaN</td>\n",
       "      <td>2014</td>\n",
       "      <td>3</td>\n",
       "      <td>20140630</td>\n",
       "      <td>2014Q3</td>\n",
       "    </tr>\n",
       "    <tr>\n",
       "      <th>8</th>\n",
       "      <td>0001193125-14-277160</td>\n",
       "      <td>AllowanceForDoubtfulAccountsReceivableCurrent</td>\n",
       "      <td>us-gaap/2014</td>\n",
       "      <td>nan</td>\n",
       "      <td>20140630</td>\n",
       "      <td>0</td>\n",
       "      <td>USD</td>\n",
       "      <td>86000000.0000</td>\n",
       "      <td>NaN</td>\n",
       "      <td>2014</td>\n",
       "      <td>3</td>\n",
       "      <td>20140630</td>\n",
       "      <td>2014Q3</td>\n",
       "    </tr>\n",
       "  </tbody>\n",
       "</table>\n",
       "</div>"
      ],
      "text/plain": [
       "                   adsh                                                tag  \\\n",
       "1  0001193125-14-277160                             AccountsPayableCurrent   \n",
       "3  0001193125-14-277160                       AccountsReceivableNetCurrent   \n",
       "5  0001193125-14-277160                          AccruedLiabilitiesCurrent   \n",
       "7  0001193125-14-277160  AccumulatedDepreciationDepletionAndAmortizatio...   \n",
       "8  0001193125-14-277160      AllowanceForDoubtfulAccountsReceivableCurrent   \n",
       "\n",
       "        version  coreg     ddate  qtrs  uom            value footnote  \\\n",
       "1  us-gaap/2014    nan  20140630     0  USD 20535000000.0000      NaN   \n",
       "3  us-gaap/2014    nan  20140630     0  USD 10788000000.0000      NaN   \n",
       "5  us-gaap/2014    nan  20140630     0  USD 15264000000.0000      NaN   \n",
       "7  us-gaap/2014    nan  20140630     0  USD 16868000000.0000      NaN   \n",
       "8  us-gaap/2014    nan  20140630     0  USD    86000000.0000      NaN   \n",
       "\n",
       "   fs_year  fs_quarter    period fin_quarter  \n",
       "1     2014           3  20140630      2014Q3  \n",
       "3     2014           3  20140630      2014Q3  \n",
       "5     2014           3  20140630      2014Q3  \n",
       "7     2014           3  20140630      2014Q3  \n",
       "8     2014           3  20140630      2014Q3  "
      ]
     },
     "execution_count": 23,
     "metadata": {},
     "output_type": "execute_result"
    }
   ],
   "source": [
    "num.head()"
   ]
  },
  {
   "cell_type": "markdown",
   "metadata": {},
   "source": [
    "We want to use the financial quarter on the x-Axis of our visualizations. However, currently, `fin_quarter` is a TimePeriod object, which cannot be used for this purpose. Thus, we have to transform it into a string."
   ]
  },
  {
   "cell_type": "code",
   "execution_count": 24,
   "metadata": {
    "ExecuteTime": {
     "end_time": "2018-05-24T19:45:26.156480Z",
     "start_time": "2018-05-24T19:45:25.953176Z"
    }
   },
   "outputs": [],
   "source": [
    "num['fin_quarter_viz'] = num['fin_quarter'].dt.strftime('%F-Q%q')"
   ]
  },
  {
   "cell_type": "markdown",
   "metadata": {
    "ExecuteTime": {
     "end_time": "2018-05-21T17:43:50.199258Z",
     "start_time": "2018-05-21T17:43:50.192951Z"
    }
   },
   "source": [
    "## A first look at the data"
   ]
  },
  {
   "cell_type": "code",
   "execution_count": 25,
   "metadata": {
    "ExecuteTime": {
     "end_time": "2018-05-24T19:45:26.183263Z",
     "start_time": "2018-05-24T19:45:26.160230Z"
    }
   },
   "outputs": [],
   "source": [
    "ar = num[num['tag'].str.contains('AccountsReceivableNetCurrent')].copy()"
   ]
  },
  {
   "cell_type": "code",
   "execution_count": 26,
   "metadata": {
    "ExecuteTime": {
     "end_time": "2018-05-24T19:45:26.220342Z",
     "start_time": "2018-05-24T19:45:26.188359Z"
    }
   },
   "outputs": [
    {
     "data": {
      "text/html": [
       "<div>\n",
       "<style scoped>\n",
       "    .dataframe tbody tr th:only-of-type {\n",
       "        vertical-align: middle;\n",
       "    }\n",
       "\n",
       "    .dataframe tbody tr th {\n",
       "        vertical-align: top;\n",
       "    }\n",
       "\n",
       "    .dataframe thead th {\n",
       "        text-align: right;\n",
       "    }\n",
       "</style>\n",
       "<table border=\"1\" class=\"dataframe\">\n",
       "  <thead>\n",
       "    <tr style=\"text-align: right;\">\n",
       "      <th></th>\n",
       "      <th>adsh</th>\n",
       "      <th>tag</th>\n",
       "      <th>version</th>\n",
       "      <th>coreg</th>\n",
       "      <th>ddate</th>\n",
       "      <th>qtrs</th>\n",
       "      <th>uom</th>\n",
       "      <th>value</th>\n",
       "      <th>footnote</th>\n",
       "      <th>fs_year</th>\n",
       "      <th>fs_quarter</th>\n",
       "      <th>period</th>\n",
       "      <th>fin_quarter</th>\n",
       "      <th>fin_quarter_viz</th>\n",
       "    </tr>\n",
       "  </thead>\n",
       "  <tbody>\n",
       "    <tr>\n",
       "      <th>3</th>\n",
       "      <td>0001193125-14-277160</td>\n",
       "      <td>AccountsReceivableNetCurrent</td>\n",
       "      <td>us-gaap/2014</td>\n",
       "      <td>nan</td>\n",
       "      <td>20140630</td>\n",
       "      <td>0</td>\n",
       "      <td>USD</td>\n",
       "      <td>10788000000.0000</td>\n",
       "      <td>NaN</td>\n",
       "      <td>2014</td>\n",
       "      <td>3</td>\n",
       "      <td>20140630</td>\n",
       "      <td>2014Q3</td>\n",
       "      <td>2014-Q3</td>\n",
       "    </tr>\n",
       "    <tr>\n",
       "      <th>407</th>\n",
       "      <td>0001193125-14-383437</td>\n",
       "      <td>AccountsReceivableNetCurrent</td>\n",
       "      <td>us-gaap/2014</td>\n",
       "      <td>nan</td>\n",
       "      <td>20140930</td>\n",
       "      <td>0</td>\n",
       "      <td>USD</td>\n",
       "      <td>17460000000.0000</td>\n",
       "      <td>NaN</td>\n",
       "      <td>2014</td>\n",
       "      <td>4</td>\n",
       "      <td>20140930</td>\n",
       "      <td>2014Q4</td>\n",
       "      <td>2014-Q4</td>\n",
       "    </tr>\n",
       "    <tr>\n",
       "      <th>1015</th>\n",
       "      <td>0000320193-18-000007</td>\n",
       "      <td>AccountsReceivableNetCurrent</td>\n",
       "      <td>us-gaap/2017</td>\n",
       "      <td>nan</td>\n",
       "      <td>20171231</td>\n",
       "      <td>0</td>\n",
       "      <td>USD</td>\n",
       "      <td>23440000000.0000</td>\n",
       "      <td>NaN</td>\n",
       "      <td>2018</td>\n",
       "      <td>1</td>\n",
       "      <td>20171231</td>\n",
       "      <td>2018Q1</td>\n",
       "      <td>2018-Q1</td>\n",
       "    </tr>\n",
       "    <tr>\n",
       "      <th>1305</th>\n",
       "      <td>0001193125-10-088957</td>\n",
       "      <td>AccountsReceivableNetCurrent</td>\n",
       "      <td>us-gaap/2009</td>\n",
       "      <td>nan</td>\n",
       "      <td>20100331</td>\n",
       "      <td>0</td>\n",
       "      <td>USD</td>\n",
       "      <td>2886000000.0000</td>\n",
       "      <td>NaN</td>\n",
       "      <td>2010</td>\n",
       "      <td>2</td>\n",
       "      <td>20100331</td>\n",
       "      <td>2010Q2</td>\n",
       "      <td>2010-Q2</td>\n",
       "    </tr>\n",
       "    <tr>\n",
       "      <th>1481</th>\n",
       "      <td>0001193125-12-023398</td>\n",
       "      <td>AccountsReceivableNetCurrent</td>\n",
       "      <td>us-gaap/2011</td>\n",
       "      <td>nan</td>\n",
       "      <td>20111231</td>\n",
       "      <td>0</td>\n",
       "      <td>USD</td>\n",
       "      <td>8930000000.0000</td>\n",
       "      <td>NaN</td>\n",
       "      <td>2012</td>\n",
       "      <td>1</td>\n",
       "      <td>20111231</td>\n",
       "      <td>2012Q1</td>\n",
       "      <td>2012-Q1</td>\n",
       "    </tr>\n",
       "  </tbody>\n",
       "</table>\n",
       "</div>"
      ],
      "text/plain": [
       "                      adsh                           tag       version  coreg  \\\n",
       "3     0001193125-14-277160  AccountsReceivableNetCurrent  us-gaap/2014    nan   \n",
       "407   0001193125-14-383437  AccountsReceivableNetCurrent  us-gaap/2014    nan   \n",
       "1015  0000320193-18-000007  AccountsReceivableNetCurrent  us-gaap/2017    nan   \n",
       "1305  0001193125-10-088957  AccountsReceivableNetCurrent  us-gaap/2009    nan   \n",
       "1481  0001193125-12-023398  AccountsReceivableNetCurrent  us-gaap/2011    nan   \n",
       "\n",
       "         ddate  qtrs  uom            value footnote  fs_year  fs_quarter  \\\n",
       "3     20140630     0  USD 10788000000.0000      NaN     2014           3   \n",
       "407   20140930     0  USD 17460000000.0000      NaN     2014           4   \n",
       "1015  20171231     0  USD 23440000000.0000      NaN     2018           1   \n",
       "1305  20100331     0  USD  2886000000.0000      NaN     2010           2   \n",
       "1481  20111231     0  USD  8930000000.0000      NaN     2012           1   \n",
       "\n",
       "        period fin_quarter fin_quarter_viz  \n",
       "3     20140630      2014Q3         2014-Q3  \n",
       "407   20140930      2014Q4         2014-Q4  \n",
       "1015  20171231      2018Q1         2018-Q1  \n",
       "1305  20100331      2010Q2         2010-Q2  \n",
       "1481  20111231      2012Q1         2012-Q1  "
      ]
     },
     "execution_count": 26,
     "metadata": {},
     "output_type": "execute_result"
    }
   ],
   "source": [
    "ar.head()"
   ]
  },
  {
   "cell_type": "markdown",
   "metadata": {},
   "source": [
    "It is important to understand that Accounts Receivable represents a value at given point in time. This is represented by the field `qtrs`. A `0` means that it is a value for a given point in time. Any value larger than `0` refers to the number of quarters. "
   ]
  },
  {
   "cell_type": "code",
   "execution_count": 27,
   "metadata": {
    "ExecuteTime": {
     "end_time": "2018-05-24T19:45:26.471135Z",
     "start_time": "2018-05-24T19:45:26.226011Z"
    }
   },
   "outputs": [
    {
     "data": {
      "text/html": [
       "<div class=\"vega-embed\" id=\"e7b967bf-38c1-49ed-8b82-c0645ac7c7ef\"></div>\n",
       "\n",
       "<style>\n",
       ".vega-embed .vega-actions > a {\n",
       "    transition: opacity 200ms ease-in;\n",
       "    opacity: 0.3;\n",
       "    margin-right: 0.6em;\n",
       "    color: #444;\n",
       "    text-decoration: none;\n",
       "}\n",
       "\n",
       ".vega-embed .vega-actions > a:hover {\n",
       "    color: #000;\n",
       "    text-decoration: underline;\n",
       "}\n",
       "\n",
       ".vega-embed:hover .vega-actions > a {\n",
       "    opacity: 1;\n",
       "    transition: 0s;\n",
       "}\n",
       "\n",
       ".vega-embed .error p {\n",
       "    color: firebrick;\n",
       "    font-size: 1.2em;\n",
       "}\n",
       "</style>\n"
      ]
     },
     "metadata": {
      "jupyter-vega3": "#e7b967bf-38c1-49ed-8b82-c0645ac7c7ef"
     },
     "output_type": "display_data"
    },
    {
     "data": {
      "application/javascript": [
       "var spec = {\"config\": {\"view\": {\"width\": 400, \"height\": 300}}, \"data\": {\"values\": [{\"value\": 10788000000.0, \"fin_quarter_viz\": \"2014-Q3\"}, {\"value\": 17460000000.0, \"fin_quarter_viz\": \"2014-Q4\"}, {\"value\": 23440000000.0, \"fin_quarter_viz\": \"2018-Q1\"}, {\"value\": 2886000000.0, \"fin_quarter_viz\": \"2010-Q2\"}, {\"value\": 8930000000.0, \"fin_quarter_viz\": \"2012-Q1\"}, {\"value\": 12953000000.0, \"fin_quarter_viz\": \"2016-Q1\"}, {\"value\": 9700000000.0, \"fin_quarter_viz\": \"2014-Q2\"}, {\"value\": 3447000000.0, \"fin_quarter_viz\": \"2010-Q3\"}, {\"value\": 5510000000.0, \"fin_quarter_viz\": \"2010-Q4\"}, {\"value\": 7084000000.0, \"fin_quarter_viz\": \"2013-Q2\"}, {\"value\": 6027000000.0, \"fin_quarter_viz\": \"2011-Q1\"}, {\"value\": 12399000000.0, \"fin_quarter_viz\": \"2017-Q3\"}, {\"value\": 17874000000.0, \"fin_quarter_viz\": \"2017-Q4\"}, {\"value\": 8839000000.0, \"fin_quarter_viz\": \"2013-Q3\"}, {\"value\": 13102000000.0, \"fin_quarter_viz\": \"2013-Q4\"}, {\"value\": 16709000000.0, \"fin_quarter_viz\": \"2015-Q1\"}, {\"value\": 11579000000.0, \"fin_quarter_viz\": \"2017-Q2\"}, {\"value\": 3090000000.0, \"fin_quarter_viz\": \"2010-Q1\"}, {\"value\": 7042000000.0, \"fin_quarter_viz\": \"2012-Q2\"}, {\"value\": 15754000000.0, \"fin_quarter_viz\": \"2016-Q4\"}, {\"value\": 11714000000.0, \"fin_quarter_viz\": \"2016-Q3\"}, {\"value\": 10930000000.0, \"fin_quarter_viz\": \"2012-Q4\"}, {\"value\": 7657000000.0, \"fin_quarter_viz\": \"2012-Q3\"}, {\"value\": 12229000000.0, \"fin_quarter_viz\": \"2016-Q2\"}, {\"value\": 14200000000.0, \"fin_quarter_viz\": \"2014-Q1\"}, {\"value\": 16849000000.0, \"fin_quarter_viz\": \"2015-Q4\"}, {\"value\": 10370000000.0, \"fin_quarter_viz\": \"2015-Q3\"}, {\"value\": 11598000000.0, \"fin_quarter_viz\": \"2013-Q1\"}, {\"value\": 5798000000.0, \"fin_quarter_viz\": \"2011-Q2\"}, {\"value\": 10905000000.0, \"fin_quarter_viz\": \"2015-Q2\"}, {\"value\": 14057000000.0, \"fin_quarter_viz\": \"2017-Q1\"}, {\"value\": 5369000000.0, \"fin_quarter_viz\": \"2011-Q4\"}, {\"value\": 6102000000.0, \"fin_quarter_viz\": \"2011-Q3\"}]}, \"mark\": \"line\", \"encoding\": {\"x\": {\"type\": \"nominal\", \"axis\": {\"title\": \"Financial Quarter\"}, \"field\": \"fin_quarter_viz\"}, \"y\": {\"type\": \"quantitative\", \"axis\": {\"title\": \"Accounts Receivable in USD\"}, \"field\": \"value\"}}, \"$schema\": \"https://vega.github.io/schema/vega-lite/v2.3.0.json\"};\n",
       "var opt = {};\n",
       "var selector = \"#e7b967bf-38c1-49ed-8b82-c0645ac7c7ef\";\n",
       "var type = \"vega-lite\";\n",
       "\n",
       "var output_area = this;\n",
       "\n",
       "require(['nbextensions/jupyter-vega3/index'], function(vega) {\n",
       "  vega.render(selector, spec, type, opt, output_area);\n",
       "}, function (err) {\n",
       "  if (err.requireType !== 'scripterror') {\n",
       "    throw(err);\n",
       "  }\n",
       "});\n"
      ]
     },
     "metadata": {
      "jupyter-vega3": "#e7b967bf-38c1-49ed-8b82-c0645ac7c7ef"
     },
     "output_type": "display_data"
    },
    {
     "data": {
      "text/plain": []
     },
     "execution_count": 27,
     "metadata": {},
     "output_type": "execute_result"
    },
    {
     "data": {
      "image/png": "[encoded data removed]"
     },
     "metadata": {
      "jupyter-vega3": "#e7b967bf-38c1-49ed-8b82-c0645ac7c7ef"
     },
     "output_type": "display_data"
    }
   ],
   "source": [
    "ar_chart = alt.Chart(ar.loc[:,['value', 'fin_quarter_viz']]).mark_line().encode(\n",
    "    x=alt.X('fin_quarter_viz', axis=alt.Axis(title='Financial Quarter')),\n",
    "    y=alt.Y('value', axis=alt.Axis(title='Accounts Receivable in USD')),\n",
    ")\n",
    "ar_chart"
   ]
  },
  {
   "cell_type": "markdown",
   "metadata": {},
   "source": [
    "The sales revenue refers to a quarter. Thus, we have to filter for the quarterly value (`qtrs` = `1`)"
   ]
  },
  {
   "cell_type": "code",
   "execution_count": 28,
   "metadata": {
    "ExecuteTime": {
     "end_time": "2018-05-24T19:45:26.493972Z",
     "start_time": "2018-05-24T19:45:26.476440Z"
    }
   },
   "outputs": [],
   "source": [
    "sales = num[(num['tag'].str.contains('SalesRevenueNet')) & (num['qtrs']==1)].copy()"
   ]
  },
  {
   "cell_type": "code",
   "execution_count": 29,
   "metadata": {
    "ExecuteTime": {
     "end_time": "2018-05-24T19:45:26.558910Z",
     "start_time": "2018-05-24T19:45:26.496304Z"
    }
   },
   "outputs": [
    {
     "data": {
      "text/html": [
       "<div class=\"vega-embed\" id=\"0c2e7843-d3db-4a69-9469-8e8ab6fcc950\"></div>\n",
       "\n",
       "<style>\n",
       ".vega-embed .vega-actions > a {\n",
       "    transition: opacity 200ms ease-in;\n",
       "    opacity: 0.3;\n",
       "    margin-right: 0.6em;\n",
       "    color: #444;\n",
       "    text-decoration: none;\n",
       "}\n",
       "\n",
       ".vega-embed .vega-actions > a:hover {\n",
       "    color: #000;\n",
       "    text-decoration: underline;\n",
       "}\n",
       "\n",
       ".vega-embed:hover .vega-actions > a {\n",
       "    opacity: 1;\n",
       "    transition: 0s;\n",
       "}\n",
       "\n",
       ".vega-embed .error p {\n",
       "    color: firebrick;\n",
       "    font-size: 1.2em;\n",
       "}\n",
       "</style>\n"
      ]
     },
     "metadata": {
      "jupyter-vega3": "#0c2e7843-d3db-4a69-9469-8e8ab6fcc950"
     },
     "output_type": "display_data"
    },
    {
     "data": {
      "application/javascript": [
       "var spec = {\"config\": {\"view\": {\"width\": 400, \"height\": 300}}, \"data\": {\"values\": [{\"value\": 37432000000.0, \"fin_quarter_viz\": \"2014-Q3\"}, {\"value\": 42123000000.0, \"fin_quarter_viz\": \"2014-Q4\"}, {\"value\": 88293000000.0, \"fin_quarter_viz\": \"2018-Q1\"}, {\"value\": 13499000000.0, \"fin_quarter_viz\": \"2010-Q2\"}, {\"value\": 46333000000.0, \"fin_quarter_viz\": \"2012-Q1\"}, {\"value\": 75872000000.0, \"fin_quarter_viz\": \"2016-Q1\"}, {\"value\": 45646000000.0, \"fin_quarter_viz\": \"2014-Q2\"}, {\"value\": 15700000000.0, \"fin_quarter_viz\": \"2010-Q3\"}, {\"value\": 20343000000.0, \"fin_quarter_viz\": \"2010-Q4\"}, {\"value\": 43603000000.0, \"fin_quarter_viz\": \"2013-Q2\"}, {\"value\": 26741000000.0, \"fin_quarter_viz\": \"2011-Q1\"}, {\"value\": 45408000000.0, \"fin_quarter_viz\": \"2017-Q3\"}, {\"value\": 52579000000.0, \"fin_quarter_viz\": \"2017-Q4\"}, {\"value\": 35323000000.0, \"fin_quarter_viz\": \"2013-Q3\"}, {\"value\": 37472000000.0, \"fin_quarter_viz\": \"2013-Q4\"}, {\"value\": 74599000000.0, \"fin_quarter_viz\": \"2015-Q1\"}, {\"value\": 52896000000.0, \"fin_quarter_viz\": \"2017-Q2\"}, {\"value\": 15683000000.0, \"fin_quarter_viz\": \"2010-Q1\"}, {\"value\": 39186000000.0, \"fin_quarter_viz\": \"2012-Q2\"}, {\"value\": 46852000000.0, \"fin_quarter_viz\": \"2016-Q4\"}, {\"value\": 42358000000.0, \"fin_quarter_viz\": \"2016-Q3\"}, {\"value\": 35966000000.0, \"fin_quarter_viz\": \"2012-Q4\"}, {\"value\": 35023000000.0, \"fin_quarter_viz\": \"2012-Q3\"}, {\"value\": 50557000000.0, \"fin_quarter_viz\": \"2016-Q2\"}, {\"value\": 57594000000.0, \"fin_quarter_viz\": \"2014-Q1\"}, {\"value\": 51501000000.0, \"fin_quarter_viz\": \"2015-Q4\"}, {\"value\": 49605000000.0, \"fin_quarter_viz\": \"2015-Q3\"}, {\"value\": 54512000000.0, \"fin_quarter_viz\": \"2013-Q1\"}, {\"value\": 24667000000.0, \"fin_quarter_viz\": \"2011-Q2\"}, {\"value\": 58010000000.0, \"fin_quarter_viz\": \"2015-Q2\"}, {\"value\": 78351000000.0, \"fin_quarter_viz\": \"2017-Q1\"}, {\"value\": 28270000000.0, \"fin_quarter_viz\": \"2011-Q4\"}, {\"value\": 28571000000.0, \"fin_quarter_viz\": \"2011-Q3\"}]}, \"mark\": \"line\", \"encoding\": {\"x\": {\"type\": \"nominal\", \"axis\": {\"title\": \"Financial Quarter\"}, \"field\": \"fin_quarter_viz\"}, \"y\": {\"type\": \"quantitative\", \"axis\": {\"title\": \"Sales Revenue in USD\"}, \"field\": \"value\"}}, \"$schema\": \"https://vega.github.io/schema/vega-lite/v2.3.0.json\"};\n",
       "var opt = {};\n",
       "var selector = \"#0c2e7843-d3db-4a69-9469-8e8ab6fcc950\";\n",
       "var type = \"vega-lite\";\n",
       "\n",
       "var output_area = this;\n",
       "\n",
       "require(['nbextensions/jupyter-vega3/index'], function(vega) {\n",
       "  vega.render(selector, spec, type, opt, output_area);\n",
       "}, function (err) {\n",
       "  if (err.requireType !== 'scripterror') {\n",
       "    throw(err);\n",
       "  }\n",
       "});\n"
      ]
     },
     "metadata": {
      "jupyter-vega3": "#0c2e7843-d3db-4a69-9469-8e8ab6fcc950"
     },
     "output_type": "display_data"
    },
    {
     "data": {
      "text/plain": []
     },
     "execution_count": 29,
     "metadata": {},
     "output_type": "execute_result"
    },
    {
     "data": {
      "image/png": "[encoded data removed]"
     },
     "metadata": {
      "jupyter-vega3": "#0c2e7843-d3db-4a69-9469-8e8ab6fcc950"
     },
     "output_type": "display_data"
    }
   ],
   "source": [
    "sales_chart = alt.Chart(sales.loc[:,['value', 'fin_quarter_viz']]).mark_line().encode(\n",
    "    x=alt.X('fin_quarter_viz', axis=alt.Axis(title='Financial Quarter')),\n",
    "    y=alt.Y('value', axis=alt.Axis(title='Sales Revenue in USD')),\n",
    ")\n",
    "sales_chart"
   ]
  },
  {
   "cell_type": "code",
   "execution_count": 30,
   "metadata": {
    "ExecuteTime": {
     "end_time": "2018-05-24T19:45:26.595658Z",
     "start_time": "2018-05-24T19:45:26.571625Z"
    }
   },
   "outputs": [],
   "source": [
    "gp = num[(num['tag'].str.contains('GrossProfit')) & (num['qtrs']==1)].copy()"
   ]
  },
  {
   "cell_type": "code",
   "execution_count": 31,
   "metadata": {
    "ExecuteTime": {
     "end_time": "2018-05-24T19:45:26.631294Z",
     "start_time": "2018-05-24T19:45:26.598082Z"
    }
   },
   "outputs": [
    {
     "data": {
      "text/html": [
       "<div class=\"vega-embed\" id=\"d58b8efc-8646-42c3-bc55-fcf2f0cb80ac\"></div>\n",
       "\n",
       "<style>\n",
       ".vega-embed .vega-actions > a {\n",
       "    transition: opacity 200ms ease-in;\n",
       "    opacity: 0.3;\n",
       "    margin-right: 0.6em;\n",
       "    color: #444;\n",
       "    text-decoration: none;\n",
       "}\n",
       "\n",
       ".vega-embed .vega-actions > a:hover {\n",
       "    color: #000;\n",
       "    text-decoration: underline;\n",
       "}\n",
       "\n",
       ".vega-embed:hover .vega-actions > a {\n",
       "    opacity: 1;\n",
       "    transition: 0s;\n",
       "}\n",
       "\n",
       ".vega-embed .error p {\n",
       "    color: firebrick;\n",
       "    font-size: 1.2em;\n",
       "}\n",
       "</style>\n"
      ]
     },
     "metadata": {
      "jupyter-vega3": "#d58b8efc-8646-42c3-bc55-fcf2f0cb80ac"
     },
     "output_type": "display_data"
    },
    {
     "data": {
      "application/javascript": [
       "var spec = {\"config\": {\"view\": {\"width\": 400, \"height\": 300}}, \"data\": {\"values\": [{\"value\": 14735000000.0, \"fin_quarter_viz\": \"2014-Q3\"}, {\"value\": 16009000000.0, \"fin_quarter_viz\": \"2014-Q4\"}, {\"value\": 33912000000.0, \"fin_quarter_viz\": \"2018-Q1\"}, {\"value\": 5625000000.0, \"fin_quarter_viz\": \"2010-Q2\"}, {\"value\": 20703000000.0, \"fin_quarter_viz\": \"2012-Q1\"}, {\"value\": 30423000000.0, \"fin_quarter_viz\": \"2016-Q1\"}, {\"value\": 17947000000.0, \"fin_quarter_viz\": \"2014-Q2\"}, {\"value\": 6136000000.0, \"fin_quarter_viz\": \"2010-Q3\"}, {\"value\": 7512000000.0, \"fin_quarter_viz\": \"2010-Q4\"}, {\"value\": 16349000000.0, \"fin_quarter_viz\": \"2013-Q2\"}, {\"value\": 10298000000.0, \"fin_quarter_viz\": \"2011-Q1\"}, {\"value\": 17488000000.0, \"fin_quarter_viz\": \"2017-Q3\"}, {\"value\": 19931000000.0, \"fin_quarter_viz\": \"2017-Q4\"}, {\"value\": 13024000000.0, \"fin_quarter_viz\": \"2013-Q3\"}, {\"value\": 13871000000.0, \"fin_quarter_viz\": \"2013-Q4\"}, {\"value\": 29741000000.0, \"fin_quarter_viz\": \"2015-Q1\"}, {\"value\": 20591000000.0, \"fin_quarter_viz\": \"2017-Q2\"}, {\"value\": 6411000000.0, \"fin_quarter_viz\": \"2010-Q1\"}, {\"value\": 18564000000.0, \"fin_quarter_viz\": \"2012-Q2\"}, {\"value\": 17813000000.0, \"fin_quarter_viz\": \"2016-Q4\"}, {\"value\": 16106000000.0, \"fin_quarter_viz\": \"2016-Q3\"}, {\"value\": 14401000000.0, \"fin_quarter_viz\": \"2012-Q4\"}, {\"value\": 14994000000.0, \"fin_quarter_viz\": \"2012-Q3\"}, {\"value\": 19921000000.0, \"fin_quarter_viz\": \"2016-Q2\"}, {\"value\": 21846000000.0, \"fin_quarter_viz\": \"2014-Q1\"}, {\"value\": 20548000000.0, \"fin_quarter_viz\": \"2015-Q4\"}, {\"value\": 19681000000.0, \"fin_quarter_viz\": \"2015-Q3\"}, {\"value\": 21060000000.0, \"fin_quarter_viz\": \"2013-Q1\"}, {\"value\": 10218000000.0, \"fin_quarter_viz\": \"2011-Q2\"}, {\"value\": 23656000000.0, \"fin_quarter_viz\": \"2015-Q2\"}, {\"value\": 30176000000.0, \"fin_quarter_viz\": \"2017-Q1\"}, {\"value\": 11380000000.0, \"fin_quarter_viz\": \"2011-Q4\"}, {\"value\": 11922000000.0, \"fin_quarter_viz\": \"2011-Q3\"}]}, \"mark\": \"line\", \"encoding\": {\"x\": {\"type\": \"nominal\", \"axis\": {\"title\": \"Financial Quarter\"}, \"field\": \"fin_quarter_viz\"}, \"y\": {\"type\": \"quantitative\", \"axis\": {\"title\": \"Gross Profit in USD\"}, \"field\": \"value\"}}, \"$schema\": \"https://vega.github.io/schema/vega-lite/v2.3.0.json\"};\n",
       "var opt = {};\n",
       "var selector = \"#d58b8efc-8646-42c3-bc55-fcf2f0cb80ac\";\n",
       "var type = \"vega-lite\";\n",
       "\n",
       "var output_area = this;\n",
       "\n",
       "require(['nbextensions/jupyter-vega3/index'], function(vega) {\n",
       "  vega.render(selector, spec, type, opt, output_area);\n",
       "}, function (err) {\n",
       "  if (err.requireType !== 'scripterror') {\n",
       "    throw(err);\n",
       "  }\n",
       "});\n"
      ]
     },
     "metadata": {
      "jupyter-vega3": "#d58b8efc-8646-42c3-bc55-fcf2f0cb80ac"
     },
     "output_type": "display_data"
    },
    {
     "data": {
      "text/plain": []
     },
     "execution_count": 31,
     "metadata": {},
     "output_type": "execute_result"
    },
    {
     "data": {
      "image/png": "[encoded data removed]"
     },
     "metadata": {
      "jupyter-vega3": "#d58b8efc-8646-42c3-bc55-fcf2f0cb80ac"
     },
     "output_type": "display_data"
    }
   ],
   "source": [
    "gp_chart = alt.Chart(gp.loc[:,['value', 'fin_quarter_viz']]).mark_line().encode(\n",
    "    x=alt.X('fin_quarter_viz', axis=alt.Axis(title='Financial Quarter')),\n",
    "    y=alt.Y('value', axis=alt.Axis(title='Gross Profit in USD')),\n",
    ")\n",
    "gp_chart"
   ]
  },
  {
   "cell_type": "markdown",
   "metadata": {
    "ExecuteTime": {
     "end_time": "2018-05-21T18:29:32.797271Z",
     "start_time": "2018-05-21T18:29:32.791818Z"
    }
   },
   "source": [
    "## Receivables Turnover Ratio"
   ]
  },
  {
   "cell_type": "markdown",
   "metadata": {},
   "source": [
    "We calculate the quarterly [receivables turnover ratio](https://en.wikipedia.org/wiki/Receivables_turnover_ratio) as follows:\n",
    "\\begin{equation*}\n",
    "Quarterly \\ Receivables \\ Turnover \\ Ratio = \\frac{Quarterly \\ Sales \\ Revenue}{\\Bigl(\\frac{Accounts \\ Receivables_{Previous \\ Quarter} + Accounts \\ Receivables_{Current \\ Quarter}}{2})}\n",
    "\\end{equation*}"
   ]
  },
  {
   "cell_type": "code",
   "execution_count": 32,
   "metadata": {
    "ExecuteTime": {
     "end_time": "2018-05-24T19:45:26.657446Z",
     "start_time": "2018-05-24T19:45:26.636736Z"
    }
   },
   "outputs": [],
   "source": [
    "rtr = pd.merge(ar.loc[:, ['adsh', 'tag', 'value', 'fin_quarter_viz']], \\\n",
    "               sales.loc[:, ['adsh', 'tag', 'value', 'fin_quarter_viz']], \\\n",
    "               how='left', on=['adsh', 'fin_quarter_viz'], \\\n",
    "               suffixes=('_ar', '_sales')).sort_values('fin_quarter_viz')"
   ]
  },
  {
   "cell_type": "code",
   "execution_count": 33,
   "metadata": {
    "ExecuteTime": {
     "end_time": "2018-05-24T19:45:26.673572Z",
     "start_time": "2018-05-24T19:45:26.659902Z"
    }
   },
   "outputs": [],
   "source": [
    "rtr['avg_ar'] = (rtr['value_ar'] + rtr['value_ar'].shift(1))/2"
   ]
  },
  {
   "cell_type": "code",
   "execution_count": 34,
   "metadata": {
    "ExecuteTime": {
     "end_time": "2018-05-24T19:45:26.686419Z",
     "start_time": "2018-05-24T19:45:26.678092Z"
    }
   },
   "outputs": [],
   "source": [
    "rtr['ar_turnover'] = rtr['value_sales']/rtr['avg_ar']"
   ]
  },
  {
   "cell_type": "code",
   "execution_count": 35,
   "metadata": {
    "ExecuteTime": {
     "end_time": "2018-05-24T19:45:26.746455Z",
     "start_time": "2018-05-24T19:45:26.692794Z"
    }
   },
   "outputs": [
    {
     "data": {
      "text/html": [
       "<div class=\"vega-embed\" id=\"3f9efe06-1156-462e-a75f-33007bf19b92\"></div>\n",
       "\n",
       "<style>\n",
       ".vega-embed .vega-actions > a {\n",
       "    transition: opacity 200ms ease-in;\n",
       "    opacity: 0.3;\n",
       "    margin-right: 0.6em;\n",
       "    color: #444;\n",
       "    text-decoration: none;\n",
       "}\n",
       "\n",
       ".vega-embed .vega-actions > a:hover {\n",
       "    color: #000;\n",
       "    text-decoration: underline;\n",
       "}\n",
       "\n",
       ".vega-embed:hover .vega-actions > a {\n",
       "    opacity: 1;\n",
       "    transition: 0s;\n",
       "}\n",
       "\n",
       ".vega-embed .error p {\n",
       "    color: firebrick;\n",
       "    font-size: 1.2em;\n",
       "}\n",
       "</style>\n"
      ]
     },
     "metadata": {
      "jupyter-vega3": "#3f9efe06-1156-462e-a75f-33007bf19b92"
     },
     "output_type": "display_data"
    },
    {
     "data": {
      "application/javascript": [
       "var spec = {\"config\": {\"view\": {\"width\": 400, \"height\": 300}}, \"data\": {\"values\": [{\"ar_turnover\": null, \"fin_quarter_viz\": \"2010-Q1\"}, {\"ar_turnover\": 4.517737617135207, \"fin_quarter_viz\": \"2010-Q2\"}, {\"ar_turnover\": 4.958155692404864, \"fin_quarter_viz\": \"2010-Q3\"}, {\"ar_turnover\": 4.542369096795802, \"fin_quarter_viz\": \"2010-Q4\"}, {\"ar_turnover\": 4.63569385455491, \"fin_quarter_viz\": \"2011-Q1\"}, {\"ar_turnover\": 4.172008456659619, \"fin_quarter_viz\": \"2011-Q2\"}, {\"ar_turnover\": 4.8018487394957985, \"fin_quarter_viz\": \"2011-Q3\"}, {\"ar_turnover\": 4.9289512684160055, \"fin_quarter_viz\": \"2011-Q4\"}, {\"ar_turnover\": 6.480593048464928, \"fin_quarter_viz\": \"2012-Q1\"}, {\"ar_turnover\": 4.906836964688204, \"fin_quarter_viz\": \"2012-Q2\"}, {\"ar_turnover\": 4.765358187631811, \"fin_quarter_viz\": \"2012-Q3\"}, {\"ar_turnover\": 3.8700166783235597, \"fin_quarter_viz\": \"2012-Q4\"}, {\"ar_turnover\": 4.839488636363637, \"fin_quarter_viz\": \"2013-Q1\"}, {\"ar_turnover\": 4.667915640723692, \"fin_quarter_viz\": \"2013-Q2\"}, {\"ar_turnover\": 4.43672674747221, \"fin_quarter_viz\": \"2013-Q3\"}, {\"ar_turnover\": 3.415705756346566, \"fin_quarter_viz\": \"2013-Q4\"}, {\"ar_turnover\": 4.219031572778551, \"fin_quarter_viz\": \"2014-Q1\"}, {\"ar_turnover\": 3.8197489539748952, \"fin_quarter_viz\": \"2014-Q2\"}, {\"ar_turnover\": 3.654041390081999, \"fin_quarter_viz\": \"2014-Q3\"}, {\"ar_turnover\": 2.9823704333050127, \"fin_quarter_viz\": \"2014-Q4\"}, {\"ar_turnover\": 4.366472533583073, \"fin_quarter_viz\": \"2015-Q1\"}, {\"ar_turnover\": 4.2014919968132105, \"fin_quarter_viz\": \"2015-Q2\"}, {\"ar_turnover\": 4.663219741480611, \"fin_quarter_viz\": \"2015-Q3\"}, {\"ar_turnover\": 3.7841948638818472, \"fin_quarter_viz\": \"2015-Q4\"}, {\"ar_turnover\": 5.091738809475874, \"fin_quarter_viz\": \"2016-Q1\"}, {\"ar_turnover\": 4.015328409181161, \"fin_quarter_viz\": \"2016-Q2\"}, {\"ar_turnover\": 3.538236645366078, \"fin_quarter_viz\": \"2016-Q3\"}, {\"ar_turnover\": 3.4113877967088975, \"fin_quarter_viz\": \"2016-Q4\"}, {\"ar_turnover\": 5.256516051122069, \"fin_quarter_viz\": \"2017-Q1\"}, {\"ar_turnover\": 4.126696832579186, \"fin_quarter_viz\": \"2017-Q2\"}, {\"ar_turnover\": 3.7874718491950956, \"fin_quarter_viz\": \"2017-Q3\"}, {\"ar_turnover\": 3.4736563934859443, \"fin_quarter_viz\": \"2017-Q4\"}, {\"ar_turnover\": 4.274241177324877, \"fin_quarter_viz\": \"2018-Q1\"}]}, \"mark\": \"line\", \"encoding\": {\"x\": {\"type\": \"nominal\", \"axis\": {\"title\": \"Financial Quarter\"}, \"field\": \"fin_quarter_viz\"}, \"y\": {\"type\": \"quantitative\", \"axis\": {\"title\": \"Accounts Receivable Turnover\"}, \"field\": \"ar_turnover\"}}, \"$schema\": \"https://vega.github.io/schema/vega-lite/v2.3.0.json\"};\n",
       "var opt = {};\n",
       "var selector = \"#3f9efe06-1156-462e-a75f-33007bf19b92\";\n",
       "var type = \"vega-lite\";\n",
       "\n",
       "var output_area = this;\n",
       "\n",
       "require(['nbextensions/jupyter-vega3/index'], function(vega) {\n",
       "  vega.render(selector, spec, type, opt, output_area);\n",
       "}, function (err) {\n",
       "  if (err.requireType !== 'scripterror') {\n",
       "    throw(err);\n",
       "  }\n",
       "});\n"
      ]
     },
     "metadata": {
      "jupyter-vega3": "#3f9efe06-1156-462e-a75f-33007bf19b92"
     },
     "output_type": "display_data"
    },
    {
     "data": {
      "text/plain": []
     },
     "execution_count": 35,
     "metadata": {},
     "output_type": "execute_result"
    },
    {
     "data": {
      "image/png": "[encoded data removed]"
     },
     "metadata": {
      "jupyter-vega3": "#3f9efe06-1156-462e-a75f-33007bf19b92"
     },
     "output_type": "display_data"
    }
   ],
   "source": [
    "rtr_chart = alt.Chart(rtr.loc[:,['ar_turnover', 'fin_quarter_viz']]).mark_line().encode(\n",
    "    x=alt.X('fin_quarter_viz', axis=alt.Axis(title='Financial Quarter')),\n",
    "    y=alt.Y('ar_turnover', axis=alt.Axis(title='Accounts Receivable Turnover')),\n",
    ")\n",
    "rtr_chart"
   ]
  }
 ],
 "metadata": {
  "kernelspec": {
   "display_name": "Python 3",
   "language": "python",
   "name": "python3"
  },
  "language_info": {
   "codemirror_mode": {
    "name": "ipython",
    "version": 3
   },
   "file_extension": ".py",
   "mimetype": "text/x-python",
   "name": "python",
   "nbconvert_exporter": "python",
   "pygments_lexer": "ipython3",
   "version": "3.7.0"
  },
  "toc": {
   "base_numbering": 1,
   "nav_menu": {},
   "number_sections": true,
   "sideBar": true,
   "skip_h1_title": false,
   "title_cell": "Table of Contents",
   "title_sidebar": "Contents",
   "toc_cell": false,
   "toc_position": {},
   "toc_section_display": true,
   "toc_window_display": false
  },
  "varInspector": {
   "cols": {
    "lenName": 16,
    "lenType": 16,
    "lenVar": 40
   },
   "kernels_config": {
    "python": {
     "delete_cmd_postfix": "",
     "delete_cmd_prefix": "del ",
     "library": "var_list.py",
     "varRefreshCmd": "print(var_dic_list())"
    },
    "r": {
     "delete_cmd_postfix": ") ",
     "delete_cmd_prefix": "rm(",
     "library": "var_list.r",
     "varRefreshCmd": "cat(var_dic_list()) "
    }
   },
   "types_to_exclude": [
    "module",
    "function",
    "builtin_function_or_method",
    "instance",
    "_Feature"
   ],
   "window_display": false
  }
 },
 "nbformat": 4,
 "nbformat_minor": 2
}
